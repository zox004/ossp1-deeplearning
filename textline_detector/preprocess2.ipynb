{
 "cells": [
  {
   "cell_type": "code",
   "execution_count": 1,
   "id": "0f710cce",
   "metadata": {},
   "outputs": [],
   "source": [
    "import json\n",
    "import numpy as np\n",
    "import pandas as pd\n",
    "import cv2\n",
    "import os\n",
    "import tqdm\n",
    "from scipy.io import loadmat\n",
    "import matplotlib.pyplot as plt"
   ]
  },
  {
   "cell_type": "code",
   "execution_count": 2,
   "id": "352dbda2",
   "metadata": {},
   "outputs": [],
   "source": [
    "# 원천 60개 한글 데이터\n",
    "image_path = 'data/this_img/'\n",
    "gt_path = 'data/this_label/'"
   ]
  },
  {
   "cell_type": "code",
   "execution_count": 15,
   "id": "d4a15418",
   "metadata": {},
   "outputs": [],
   "source": [
    "image_path = 'data/korean_images/'\n",
    "gt_path = 'data/korean_ground_truth/'"
   ]
  },
  {
   "cell_type": "code",
   "execution_count": 3,
   "id": "db310b5f",
   "metadata": {},
   "outputs": [],
   "source": [
    "# 추가 한글 데이터\n",
    "additional_image_path = 'data/signboard/additional_images/'\n",
    "additional_gt_path = 'data/signboard/additional_labels/'"
   ]
  },
  {
   "cell_type": "code",
   "execution_count": 4,
   "id": "82a0306d",
   "metadata": {},
   "outputs": [],
   "source": [
    "# 영어 데이터\n",
    "en_image_path = 'data/signboard/en_images/'\n",
    "en_gt_path = 'data/signboard/en_labels/'"
   ]
  },
  {
   "cell_type": "code",
   "execution_count": 3,
   "id": "0e6c59ab",
   "metadata": {},
   "outputs": [],
   "source": [
    "# 원천 60개 한글 데이터\n",
    "train_image_paths = []\n",
    "train_gt_paths = []"
   ]
  },
  {
   "cell_type": "code",
   "execution_count": 6,
   "id": "8c7077c5",
   "metadata": {},
   "outputs": [],
   "source": [
    "# 추가 한글 데이터\n",
    "additional_train_image_paths = []\n",
    "additional_train_gt_paths = []"
   ]
  },
  {
   "cell_type": "code",
   "execution_count": 167,
   "id": "50b2ed98",
   "metadata": {},
   "outputs": [],
   "source": [
    "# 영어 데이터\n",
    "en_train_image_paths = []\n",
    "en_train_gt_paths = []"
   ]
  },
  {
   "cell_type": "code",
   "execution_count": 4,
   "id": "770c489f",
   "metadata": {
    "scrolled": false
   },
   "outputs": [
    {
     "name": "stderr",
     "output_type": "stream",
     "text": [
      "100%|██████████████████████████████████████| 213/213 [00:00<00:00, 16558.92it/s]\n"
     ]
    }
   ],
   "source": [
    "# 한글 이미지 데이터 (100개) 주소 리스트로 만들기\n",
    "\n",
    "for new_file in tqdm.tqdm(os.listdir(gt_path)):\n",
    "\n",
    "    name_split = new_file.split('.')\n",
    "    image_name = name_split[0]     # \"gt_\" 뒤에가 이미지 이름\n",
    "    image_name = image_name + '.jpg'\n",
    "\n",
    "    if 'gt' in new_file:\n",
    "        image_name = name_split[0]\n",
    "        image_name = image_name + '.jpg'\n",
    "\n",
    "    path_img = os.path.join(image_path , image_name)\n",
    "\n",
    "    if not os.path.isfile(path_img):\n",
    "        image_name = image_name.replace('.jpg', '.JPEG')\n",
    "        path_img = os.path.join(image_path, image_name)\n",
    "\n",
    "    train_image_paths.append(path_img)\n",
    "    train_gt_paths.append(os.path.join(gt_path , new_file))\n"
   ]
  },
  {
   "cell_type": "code",
   "execution_count": 8,
   "id": "bcc42ff4",
   "metadata": {},
   "outputs": [
    {
     "name": "stderr",
     "output_type": "stream",
     "text": [
      "100%|████████████████████████████████████| 1401/1401 [00:00<00:00, 57969.18it/s]\n"
     ]
    }
   ],
   "source": [
    "# 추가 한글 이미지 데이터 주소 리스트로 만들기\n",
    "\n",
    "for new_file in tqdm.tqdm(os.listdir(additional_gt_path)):\n",
    "\n",
    "    name_split = new_file.split('.')\n",
    "    image_name = name_split[0]     # \"gt_\" 뒤에가 이미지 이름\n",
    "    image_name = image_name + '.jpg'\n",
    "\n",
    "    if 'gt' in new_file:\n",
    "        image_name = name_split[0]\n",
    "        image_name = image_name + '.jpg'\n",
    "\n",
    "    path_img = os.path.join(additional_image_path , image_name)\n",
    "\n",
    "    if not os.path.isfile(path_img):\n",
    "        image_name = image_name.replace('.jpg', '.JPEG')\n",
    "        path_img = os.path.join(additional_image_path, image_name)\n",
    "\n",
    "    additional_train_image_paths.append(path_img)\n",
    "    additional_train_gt_paths.append(os.path.join(additional_gt_path , new_file))\n",
    "\n"
   ]
  },
  {
   "cell_type": "code",
   "execution_count": 149,
   "id": "52a572e3",
   "metadata": {},
   "outputs": [
    {
     "name": "stderr",
     "output_type": "stream",
     "text": [
      "100%|█████████████████████████████████████| 461/461 [00:00<00:00, 185813.39it/s]\n"
     ]
    }
   ],
   "source": [
    "# 영어 이미지 데이터 주소 리스트로 만들기\n",
    "\n",
    "for new_file in tqdm.tqdm(os.listdir(en_gt_path)):\n",
    "    \n",
    "    name_split = new_file.split('.')\n",
    "    image_name = name_split[0][3:]\n",
    "    image_name = image_name + '.jpg'\n",
    "    \n",
    "    if 'gt' in new_file:\n",
    "        image_name = name_split[0][3:]\n",
    "        image_name = image_name + '.jpg'\n",
    "    \n",
    "    path_img = os.path.join(en_image_path , image_name)\n",
    "    en_train_image_paths.append(path_img)\n",
    "    en_train_gt_paths.append(os.path.join(en_gt_path , new_file))"
   ]
  },
  {
   "cell_type": "code",
   "execution_count": 5,
   "id": "59262e3c",
   "metadata": {},
   "outputs": [],
   "source": [
    "X_final = []\n",
    "Y_final = []\n",
    "grid_h = 16\n",
    "grid_w = 16\n",
    "img_w = 512\n",
    "img_h = 512"
   ]
  },
  {
   "cell_type": "code",
   "execution_count": 6,
   "id": "6513a6cc",
   "metadata": {
    "scrolled": true
   },
   "outputs": [
    {
     "name": "stderr",
     "output_type": "stream",
     "text": [
      "100%|█████████████████████████████████████████| 213/213 [00:04<00:00, 52.13it/s]\n"
     ]
    }
   ],
   "source": [
    "# 한글 데이터 (60개) 이미지 전처리\n",
    "\n",
    "for z in tqdm.tqdm(range(len(train_image_paths))):\n",
    "    \n",
    "    new_file = train_image_paths[z]\n",
    "\n",
    "    x = cv2.imread(train_image_paths[z])\n",
    "\n",
    "\n",
    "    if x is not None:\n",
    "        x_sl = 512/x.shape[1]\n",
    "        y_sl = 512/x.shape[0]\n",
    "\n",
    "        \n",
    "        img = cv2.resize(x,(512,512))\n",
    "\n",
    "        X_final.append(img)\n",
    "\n",
    "\n",
    "        Y = np.zeros((grid_h,grid_w,1,5))\n",
    "\n",
    "        file = train_gt_paths[z]\n",
    "\n",
    "        with open(file, 'r') as file:\n",
    "            data = json.load(file)\n",
    "            data = data['annotations']\n",
    "\n",
    "\n",
    "            for line in data:\n",
    "                bb = line['bbox']\n",
    "                #name = line['text']\n",
    "\n",
    "                # x(중간좌표), y(중간좌표), width, height\n",
    "                x = ((int((bb[0] + (bb[2]/2))) * x_sl) / img_w) * grid_w\n",
    "                y = ((int((bb[1] + (bb[3]/2))) * y_sl) / img_h) * grid_h\n",
    "\n",
    "                w = (int(bb[2]) * x_sl) / img_w\n",
    "                h = (int(bb[3]) * y_sl) / img_h\n",
    "\n",
    "                \n",
    "                if x >= 16:\n",
    "                    x = x-1\n",
    "                if y >= 16:\n",
    "                    y = y-1\n",
    "\n",
    "                Y[int(y),int(x),0,0] = 1\n",
    "                Y[int(y),int(x),0,1] = x - int(x)\n",
    "                Y[int(y),int(x),0,2] = y - int(y)\n",
    "                Y[int(y),int(x),0,3] = w\n",
    "                Y[int(y),int(x),0,4] = h\n",
    "\n",
    "\n",
    "            \n",
    "\n",
    "            Y_final.append(Y)\n"
   ]
  },
  {
   "cell_type": "code",
   "execution_count": 11,
   "id": "616e7028",
   "metadata": {
    "scrolled": false
   },
   "outputs": [
    {
     "name": "stderr",
     "output_type": "stream",
     "text": [
      "100%|███████████████████████████████████████| 1401/1401 [00:25<00:00, 55.48it/s]\n"
     ]
    }
   ],
   "source": [
    "# 추가 한글 데이터 이미지 전처리\n",
    "\n",
    "for z in tqdm.tqdm(range(len(additional_train_image_paths))):\n",
    "    \n",
    "    new_file = additional_train_image_paths[z]\n",
    "\n",
    "    x = cv2.imread(additional_train_image_paths[z])\n",
    "\n",
    "    if x is not None:\n",
    "        x_sl = 512/x.shape[1]\n",
    "        y_sl = 512/x.shape[0]\n",
    "\n",
    "        \n",
    "        img = cv2.resize(x,(512,512))\n",
    "\n",
    "        X_final.append(img)\n",
    "\n",
    "\n",
    "        Y = np.zeros((grid_h,grid_w,1,5))\n",
    "\n",
    "        file = additional_train_gt_paths[z]\n",
    "\n",
    "        with open(file, 'r') as file:\n",
    "            data = json.load(file)\n",
    "            data = data['annotations']\n",
    "\n",
    "\n",
    "            for line in data:\n",
    "                bb = line['bbox']\n",
    "                #name = line['text']\n",
    "\n",
    "                # x(중간좌표), y(중간좌표), width, height\n",
    "                x = ((int((bb[0] + (bb[2]/2))) * x_sl) / img_w) * grid_w\n",
    "                y = ((int((bb[1] + (bb[3]/2))) * y_sl) / img_h) * grid_h\n",
    "\n",
    "                w = (int(bb[2]) * x_sl) / img_w\n",
    "                h = (int(bb[3]) * y_sl) / img_h\n",
    "\n",
    "                \n",
    "                if x >= 16:\n",
    "                    x = x-1\n",
    "                if y >= 16:\n",
    "                    y = y-1\n",
    "\n",
    "                Y[int(y),int(x),0,0] = 1\n",
    "                Y[int(y),int(x),0,1] = x - int(x)\n",
    "                Y[int(y),int(x),0,2] = y - int(y)\n",
    "                Y[int(y),int(x),0,3] = w\n",
    "                Y[int(y),int(x),0,4] = h\n",
    "\n",
    "\n",
    "            \n",
    "\n",
    "            Y_final.append(Y)"
   ]
  },
  {
   "cell_type": "code",
   "execution_count": 153,
   "id": "1282489a",
   "metadata": {
    "scrolled": true
   },
   "outputs": [
    {
     "name": "stderr",
     "output_type": "stream",
     "text": [
      "100%|█████████████████████████████████████████| 461/461 [00:07<00:00, 65.48it/s]\n"
     ]
    }
   ],
   "source": [
    "# 영어 데이터 이미지 전처리\n",
    "\n",
    "for z in tqdm.tqdm(range(len(en_train_image_paths))):\n",
    "    \n",
    "    new_file = en_train_image_paths[z]\n",
    "    #print(new_file)\n",
    "    \n",
    "    x = cv2.imread(en_train_image_paths[z])\n",
    "    \n",
    "    if x is not None:\n",
    "        x_sl = 512/x.shape[1]\n",
    "        y_sl = 512/x.shape[0]\n",
    "    \n",
    "        img = cv2.resize(x,(512,512))\n",
    "    \n",
    "    \n",
    "        X_final.append(img)\n",
    "    \n",
    "\n",
    "        i = \" \"\n",
    "\n",
    "        if 'img' in new_file:\n",
    "            i = \", \"\n",
    "\n",
    "        Y = np.zeros((grid_h,grid_w,1,5))\n",
    "\n",
    "        file = en_train_gt_paths[z]\n",
    "        name = open(file , 'r')\n",
    "        data = name.read()\n",
    "        \n",
    "        data = data.split(\"\\n\")\n",
    "        data = data[:-1]\n",
    "\n",
    "\n",
    "        for li in data:\n",
    "            #print(li)\n",
    "            temp_list = []\n",
    "            file_data = li.split(i)\n",
    "            strr = file_data[4]\n",
    "            bb = file_data[:4]\n",
    "\n",
    "\n",
    "            xmin = int(bb[0])*x_sl\n",
    "            xmax = int(bb[2])*x_sl\n",
    "            ymin = int(bb[1])*y_sl\n",
    "            ymax = int(bb[3])*y_sl\n",
    "\n",
    "            #te = cv2.rectangle(img,(int(xmin),int(ymin)),(int(xmax),int(ymax)) , color = (0,255,0))\n",
    "\n",
    "            w = (xmax - xmin)/img_w\n",
    "            h = (ymax - ymin)/img_h\n",
    "\n",
    "            x = ((xmax + xmin)/2)/img_w\n",
    "            y = ((ymax + ymin)/2)/img_h\n",
    "            x = x * grid_w\n",
    "            y = y * grid_h\n",
    "\n",
    "            Y[int(y),int(x),0,0] = 1\n",
    "            Y[int(y),int(x),0,1] = x - int(x)\n",
    "            Y[int(y),int(x),0,2] = y - int(y)\n",
    "            Y[int(y),int(x),0,3] = w\n",
    "            Y[int(y),int(x),0,4] = h\n",
    "        #plt.imshow(te)\n",
    "        #plt.show()\n",
    "\n",
    "        Y_final.append(Y)"
   ]
  },
  {
   "cell_type": "code",
   "execution_count": 6,
   "id": "95a537d2",
   "metadata": {},
   "outputs": [
    {
     "name": "stderr",
     "output_type": "stream",
     "text": [
      "100%|██████████████████████████████████████| 138/138 [00:00<00:00, 26310.92it/s]\n"
     ]
    }
   ],
   "source": [
    "# 영어 데이터 이미지 전처리\n",
    "\n",
    "for z in tqdm.tqdm(range(len(train_image_paths))):\n",
    "    \n",
    "    new_file = train_image_paths[z]\n",
    "    #print(new_file)\n",
    "    \n",
    "    x = cv2.imread(train_image_paths[z])\n",
    "    \n",
    "    if x is not None:\n",
    "        x_sl = 512/x.shape[1]\n",
    "        y_sl = 512/x.shape[0]\n",
    "    \n",
    "        img = cv2.resize(x,(512,512))\n",
    "    \n",
    "    \n",
    "        X_final.append(img)\n",
    "    \n",
    "\n",
    "        i = \" \"\n",
    "\n",
    "        if 'img' in new_file:\n",
    "            i = \", \"\n",
    "\n",
    "        Y = np.zeros((grid_h,grid_w,1,5))\n",
    "\n",
    "        file = train_gt_paths[z]\n",
    "        name = open(file , 'r')\n",
    "        data = name.read()\n",
    "        \n",
    "        data = data.split(\"\\n\")\n",
    "        data = data[:-1]\n",
    "\n",
    "\n",
    "        for li in data:\n",
    "            #print(li)\n",
    "            temp_list = []\n",
    "            file_data = li.split(i)\n",
    "            strr = file_data[4]\n",
    "            bb = file_data[:4]\n",
    "\n",
    "\n",
    "            xmin = int(bb[0])*x_sl\n",
    "            xmax = int(bb[2])*x_sl\n",
    "            ymin = int(bb[1])*y_sl\n",
    "            ymax = int(bb[3])*y_sl\n",
    "\n",
    "            #te = cv2.rectangle(img,(int(xmin),int(ymin)),(int(xmax),int(ymax)) , color = (0,255,0))\n",
    "\n",
    "            w = (xmax - xmin)/img_w\n",
    "            h = (ymax - ymin)/img_h\n",
    "\n",
    "            x = ((xmax + xmin)/2)/img_w\n",
    "            y = ((ymax + ymin)/2)/img_h\n",
    "            x = x * grid_w\n",
    "            y = y * grid_h\n",
    "\n",
    "            Y[int(y),int(x),0,0] = 1\n",
    "            Y[int(y),int(x),0,1] = x - int(x)\n",
    "            Y[int(y),int(x),0,2] = y - int(y)\n",
    "            Y[int(y),int(x),0,3] = w\n",
    "            Y[int(y),int(x),0,4] = h\n",
    "        #plt.imshow(te)\n",
    "        #plt.show()\n",
    "\n",
    "        Y_final.append(Y)"
   ]
  },
  {
   "cell_type": "code",
   "execution_count": 7,
   "id": "d1bcc357",
   "metadata": {},
   "outputs": [
    {
     "name": "stdout",
     "output_type": "stream",
     "text": [
      "212 212\n"
     ]
    }
   ],
   "source": [
    "print(len(X_final), len(Y_final))"
   ]
  },
  {
   "cell_type": "code",
   "execution_count": 8,
   "id": "f05d3843",
   "metadata": {},
   "outputs": [],
   "source": [
    "X = np.array(X_final)\n",
    "X_final = []"
   ]
  },
  {
   "cell_type": "code",
   "execution_count": 9,
   "id": "2d1192b2",
   "metadata": {},
   "outputs": [],
   "source": [
    "Y = np.array(Y_final)\n",
    "Y_final = []"
   ]
  },
  {
   "cell_type": "code",
   "execution_count": 10,
   "id": "3783e6e4",
   "metadata": {},
   "outputs": [],
   "source": [
    "X = (X - 127.5)/127.5"
   ]
  },
  {
   "cell_type": "code",
   "execution_count": 11,
   "id": "1873950b",
   "metadata": {},
   "outputs": [
    {
     "name": "stdout",
     "output_type": "stream",
     "text": [
      "[[[ 0.43529412  0.35686275  0.36470588]\n",
      "  [ 0.51372549  0.44313725  0.46666667]\n",
      "  [ 0.57647059  0.50588235  0.52941176]\n",
      "  ...\n",
      "  [ 0.50588235  0.41960784  0.42745098]\n",
      "  [ 0.37254902  0.27058824  0.27058824]\n",
      "  [ 0.34901961  0.23921569  0.25490196]]\n",
      "\n",
      " [[ 0.58431373  0.48235294  0.49803922]\n",
      "  [ 0.52941176  0.45882353  0.4745098 ]\n",
      "  [ 0.69411765  0.62352941  0.64705882]\n",
      "  ...\n",
      "  [ 0.42745098  0.34117647  0.34117647]\n",
      "  [ 0.45882353  0.36470588  0.36470588]\n",
      "  [ 0.4745098   0.38039216  0.38039216]]\n",
      "\n",
      " [[ 0.37254902  0.27058824  0.29411765]\n",
      "  [ 0.64705882  0.56078431  0.57647059]\n",
      "  [ 0.55294118  0.49019608  0.49803922]\n",
      "  ...\n",
      "  [ 0.36470588  0.27058824  0.27058824]\n",
      "  [ 0.38039216  0.29411765  0.30980392]\n",
      "  [ 0.54509804  0.45882353  0.46666667]]\n",
      "\n",
      " ...\n",
      "\n",
      " [[ 0.4745098   0.57647059  0.55294118]\n",
      "  [ 0.50588235  0.6         0.6       ]\n",
      "  [ 0.3254902   0.41960784  0.41960784]\n",
      "  ...\n",
      "  [-0.52941176 -0.56078431 -0.83529412]\n",
      "  [-0.52941176 -0.54509804 -0.81960784]\n",
      "  [-0.49019608 -0.49803922 -0.80392157]]\n",
      "\n",
      " [[ 0.46666667  0.5372549   0.56078431]\n",
      "  [ 0.49019608  0.56862745  0.56862745]\n",
      "  [ 0.30196078  0.41176471  0.39607843]\n",
      "  ...\n",
      "  [-0.52156863 -0.54509804 -0.83529412]\n",
      "  [-0.51372549 -0.5372549  -0.83529412]\n",
      "  [-0.48235294 -0.50588235 -0.80392157]]\n",
      "\n",
      " [[ 0.45882353  0.5372549   0.54509804]\n",
      "  [ 0.48235294  0.56078431  0.55294118]\n",
      "  [ 0.43529412  0.54509804  0.54509804]\n",
      "  ...\n",
      "  [-0.50588235 -0.52941176 -0.80392157]\n",
      "  [-0.48235294 -0.52156863 -0.82745098]\n",
      "  [-0.45098039 -0.46666667 -0.79607843]]]\n"
     ]
    }
   ],
   "source": [
    "print(X[0])"
   ]
  },
  {
   "cell_type": "code",
   "execution_count": 12,
   "id": "69413c6c",
   "metadata": {},
   "outputs": [],
   "source": [
    "np.save('data/signboard/npy/final/X.npy', X)"
   ]
  },
  {
   "cell_type": "code",
   "execution_count": 13,
   "id": "36ebabbd",
   "metadata": {},
   "outputs": [],
   "source": [
    "np.save('data/signboard/npy/final/Y.npy', Y)"
   ]
  },
  {
   "cell_type": "code",
   "execution_count": 18,
   "id": "355c8603",
   "metadata": {
    "scrolled": true
   },
   "outputs": [
    {
     "name": "stdout",
     "output_type": "stream",
     "text": [
      "[[[-0.59215686 -0.67058824 -0.70980392]\n",
      "  [-0.57647059 -0.67058824 -0.68627451]\n",
      "  [-0.55294118 -0.6627451  -0.65490196]\n",
      "  ...\n",
      "  [-0.61568627 -0.67843137 -0.85882353]\n",
      "  [-0.55294118 -0.62352941 -0.81176471]\n",
      "  [-0.49803922 -0.56862745 -0.78039216]]\n",
      "\n",
      " [[-0.92941176 -0.98431373 -1.        ]\n",
      "  [-0.9372549  -0.99215686 -1.        ]\n",
      "  [-0.92156863 -0.98431373 -0.98431373]\n",
      "  ...\n",
      "  [-0.40392157 -0.49803922 -0.71764706]\n",
      "  [-0.23137255 -0.33333333 -0.55294118]\n",
      "  [-0.18431373 -0.27058824 -0.52156863]]\n",
      "\n",
      " [[-0.00392157 -0.02745098 -0.05882353]\n",
      "  [ 0.0745098   0.03529412  0.01176471]\n",
      "  [ 0.16078431  0.12941176  0.12156863]\n",
      "  ...\n",
      "  [-0.20784314 -0.30980392 -0.56078431]\n",
      "  [-0.14509804 -0.25490196 -0.51372549]\n",
      "  [-0.18431373 -0.29411765 -0.57647059]]\n",
      "\n",
      " ...\n",
      "\n",
      " [[ 0.64705882  0.41176471  0.16862745]\n",
      "  [ 0.63137255  0.38823529  0.18431373]\n",
      "  [ 0.65490196  0.38823529  0.18431373]\n",
      "  ...\n",
      "  [-0.04313725 -0.29411765 -0.63921569]\n",
      "  [-0.05882353 -0.30196078 -0.70196078]\n",
      "  [-0.04313725 -0.28627451 -0.70196078]]\n",
      "\n",
      " [[ 0.6627451   0.39607843  0.20784314]\n",
      "  [ 0.6627451   0.40392157  0.22352941]\n",
      "  [ 0.65490196  0.36470588  0.19215686]\n",
      "  ...\n",
      "  [-0.54509804 -0.74901961 -0.90588235]\n",
      "  [-0.42745098 -0.62352941 -0.84313725]\n",
      "  [-0.30196078 -0.48235294 -0.73333333]]\n",
      "\n",
      " [[ 0.63921569  0.44313725  0.25490196]\n",
      "  [ 0.56862745  0.36470588  0.19215686]\n",
      "  [ 0.48235294  0.23137255  0.06666667]\n",
      "  ...\n",
      "  [-0.55294118 -0.70980392 -0.79607843]\n",
      "  [-0.54509804 -0.71764706 -0.82745098]\n",
      "  [-0.55294118 -0.69411765 -0.83529412]]]\n"
     ]
    }
   ],
   "source": [
    "print(X[0])"
   ]
  },
  {
   "cell_type": "code",
   "execution_count": 14,
   "id": "9442fe43",
   "metadata": {
    "scrolled": true
   },
   "outputs": [
    {
     "name": "stdout",
     "output_type": "stream",
     "text": [
      "[[[[0. 0. 0. 0. 0.]]\n",
      "\n",
      "  [[0. 0. 0. 0. 0.]]\n",
      "\n",
      "  [[0. 0. 0. 0. 0.]]\n",
      "\n",
      "  ...\n",
      "\n",
      "  [[0. 0. 0. 0. 0.]]\n",
      "\n",
      "  [[0. 0. 0. 0. 0.]]\n",
      "\n",
      "  [[0. 0. 0. 0. 0.]]]\n",
      "\n",
      "\n",
      " [[[0. 0. 0. 0. 0.]]\n",
      "\n",
      "  [[0. 0. 0. 0. 0.]]\n",
      "\n",
      "  [[0. 0. 0. 0. 0.]]\n",
      "\n",
      "  ...\n",
      "\n",
      "  [[0. 0. 0. 0. 0.]]\n",
      "\n",
      "  [[0. 0. 0. 0. 0.]]\n",
      "\n",
      "  [[0. 0. 0. 0. 0.]]]\n",
      "\n",
      "\n",
      " [[[0. 0. 0. 0. 0.]]\n",
      "\n",
      "  [[0. 0. 0. 0. 0.]]\n",
      "\n",
      "  [[0. 0. 0. 0. 0.]]\n",
      "\n",
      "  ...\n",
      "\n",
      "  [[0. 0. 0. 0. 0.]]\n",
      "\n",
      "  [[0. 0. 0. 0. 0.]]\n",
      "\n",
      "  [[0. 0. 0. 0. 0.]]]\n",
      "\n",
      "\n",
      " ...\n",
      "\n",
      "\n",
      " [[[0. 0. 0. 0. 0.]]\n",
      "\n",
      "  [[0. 0. 0. 0. 0.]]\n",
      "\n",
      "  [[0. 0. 0. 0. 0.]]\n",
      "\n",
      "  ...\n",
      "\n",
      "  [[0. 0. 0. 0. 0.]]\n",
      "\n",
      "  [[0. 0. 0. 0. 0.]]\n",
      "\n",
      "  [[0. 0. 0. 0. 0.]]]\n",
      "\n",
      "\n",
      " [[[0. 0. 0. 0. 0.]]\n",
      "\n",
      "  [[0. 0. 0. 0. 0.]]\n",
      "\n",
      "  [[0. 0. 0. 0. 0.]]\n",
      "\n",
      "  ...\n",
      "\n",
      "  [[0. 0. 0. 0. 0.]]\n",
      "\n",
      "  [[0. 0. 0. 0. 0.]]\n",
      "\n",
      "  [[0. 0. 0. 0. 0.]]]\n",
      "\n",
      "\n",
      " [[[0. 0. 0. 0. 0.]]\n",
      "\n",
      "  [[0. 0. 0. 0. 0.]]\n",
      "\n",
      "  [[0. 0. 0. 0. 0.]]\n",
      "\n",
      "  ...\n",
      "\n",
      "  [[0. 0. 0. 0. 0.]]\n",
      "\n",
      "  [[0. 0. 0. 0. 0.]]\n",
      "\n",
      "  [[0. 0. 0. 0. 0.]]]]\n"
     ]
    }
   ],
   "source": [
    "print(Y[0])"
   ]
  },
  {
   "cell_type": "code",
   "execution_count": null,
   "id": "6bd00b1f",
   "metadata": {},
   "outputs": [],
   "source": []
  }
 ],
 "metadata": {
  "kernelspec": {
   "display_name": "Python 3 (ipykernel)",
   "language": "python",
   "name": "python3"
  },
  "language_info": {
   "codemirror_mode": {
    "name": "ipython",
    "version": 3
   },
   "file_extension": ".py",
   "mimetype": "text/x-python",
   "name": "python",
   "nbconvert_exporter": "python",
   "pygments_lexer": "ipython3",
   "version": "3.9.0"
  }
 },
 "nbformat": 4,
 "nbformat_minor": 5
}
